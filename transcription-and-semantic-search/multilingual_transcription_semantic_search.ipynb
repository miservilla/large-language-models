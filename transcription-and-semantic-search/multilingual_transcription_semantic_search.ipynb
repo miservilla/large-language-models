{
 "cells": [
  {
   "cell_type": "markdown",
   "metadata": {},
   "source": [
    "### Import Libraries"
   ]
  },
  {
   "cell_type": "code",
   "execution_count": 29,
   "metadata": {},
   "outputs": [],
   "source": [
    "from encoder.encoder import Encoder\n",
    "from transcriptor.whisperx import WhisperX\n",
    "from langchain.vectorstores.pgvector import PGVector\n",
    "from langchain.docstore.document import Document\n",
    "import utils\n",
    "import os\n",
    "from dotenv import load_dotenv\n",
    "\n",
    "load_dotenv(\"env/connection.env\")\n",
    "\n",
    "COLLECTION_NAME = 'inflation' # or 'rag'"
   ]
  },
  {
   "cell_type": "markdown",
   "metadata": {},
   "source": [
    "### Convert Video into Audio file"
   ]
  },
  {
   "cell_type": "code",
   "execution_count": null,
   "metadata": {},
   "outputs": [],
   "source": [
    "utils.convert_to_wav(f'data/{COLLECTION_NAME}.mp4')"
   ]
  },
  {
   "cell_type": "markdown",
   "metadata": {},
   "source": [
    "### Transcribe audio using WhiperX and create documents to be stored in Postgres"
   ]
  },
  {
   "cell_type": "code",
   "execution_count": 31,
   "metadata": {},
   "outputs": [
    {
     "name": "stdout",
     "output_type": "stream",
     "text": [
      "huggingface/tokenizers: The current process just got forked, after parallelism has already been used. Disabling parallelism to avoid deadlocks...\n",
      "To disable this warning, you can either:\n",
      "\t- Avoid using `tokenizers` before the fork if possible\n",
      "\t- Explicitly set the environment variable TOKENIZERS_PARALLELISM=(true | false)\n",
      "huggingface/tokenizers: The current process just got forked, after parallelism has already been used. Disabling parallelism to avoid deadlocks...\n",
      "To disable this warning, you can either:\n",
      "\t- Avoid using `tokenizers` before the fork if possible\n",
      "\t- Explicitly set the environment variable TOKENIZERS_PARALLELISM=(true | false)\n"
     ]
    }
   ],
   "source": [
    "whisperx = WhisperX()\n",
    "transcription = whisperx.transcribe(f'data/{COLLECTION_NAME}.wav')\n",
    "\n",
    "# create documents to store in Postgres\n",
    "docs = [Document(page_content=f'start {item[\"start\"]} - end {item[\"end\"]}: {item[\"text\"]}') for item in transcription['segments']]"
   ]
  },
  {
   "cell_type": "markdown",
   "metadata": {},
   "source": [
    "### Create connection settings"
   ]
  },
  {
   "cell_type": "code",
   "execution_count": 32,
   "metadata": {},
   "outputs": [],
   "source": [
    "CONNECTION_STRING = PGVector.connection_string_from_db_params(\n",
    "    driver=os.getenv(\"DRIVER\"),\n",
    "    host=os.getenv(\"HOST\"),\n",
    "    port=os.getenv(\"PORT\"),     \n",
    "    database=os.getenv(\"DATABASE\"),\n",
    "    user=os.getenv(\"USERNAME\"),\n",
    "    password=os.getenv(\"PASSWORD\"),\n",
    ")"
   ]
  },
  {
   "cell_type": "markdown",
   "metadata": {},
   "source": [
    "### Insert embeddings into Postgres"
   ]
  },
  {
   "cell_type": "code",
   "execution_count": 33,
   "metadata": {},
   "outputs": [],
   "source": [
    "db = PGVector.from_documents(\n",
    "    embedding=Encoder().encoder,\n",
    "    documents=docs,\n",
    "    collection_name=COLLECTION_NAME,\n",
    "    connection_string=CONNECTION_STRING,\n",
    ")"
   ]
  },
  {
   "cell_type": "markdown",
   "metadata": {},
   "source": [
    "### Query Database"
   ]
  },
  {
   "cell_type": "markdown",
   "metadata": {},
   "source": [
    "#### Inflation use case with portuguese audio"
   ]
  },
  {
   "cell_type": "code",
   "execution_count": 28,
   "metadata": {},
   "outputs": [
    {
     "name": "stdout",
     "output_type": "stream",
     "text": [
      "Query PT: 'banco central europeu e taxas de juro' | Top 2 results:\n",
      "start 34.701 - end 45.0:  O abrendamento da subida de presos no euro dá um sinal forte ao banco central europeu para que não retomo o aumento das taxas de juros.\n",
      "start 1.361 - end 20.88:  Em flação na zona euro-recoa para 2,4% em novembro, faça os 2,9% de outubro sendo o valor mais baixo desde julho de 2021, de acordo com a estimativa rápida do Eurostat divulgada esta quinta-feira.\n",
      "Query EN: 'european central bank and interest rates' | Top 2 results:\n",
      "start 1.361 - end 20.88:  Em flação na zona euro-recoa para 2,4% em novembro, faça os 2,9% de outubro sendo o valor mais baixo desde julho de 2021, de acordo com a estimativa rápida do Eurostat divulgada esta quinta-feira.\n",
      "start 34.701 - end 45.0:  O abrendamento da subida de presos no euro dá um sinal forte ao banco central europeu para que não retomo o aumento das taxas de juros.\n"
     ]
    }
   ],
   "source": [
    "similar_docs_pt = db.similarity_search(\"banco central europeu e taxas de juro\")\n",
    "similar_docs_en = db.similarity_search(\"european central bank and interest rates\")\n",
    "\n",
    "print(\"Query PT: 'banco central europeu e taxas de juro' | Top 2 results:\")\n",
    "print('\\n'.join([x.page_content for x in similar_docs_pt[:2]]))\n",
    "print(\"Query EN: 'european central bank and interest rates' | Top 2 results:\")\n",
    "print('\\n'.join([x.page_content for x in similar_docs_en[:2]]))"
   ]
  },
  {
   "cell_type": "markdown",
   "metadata": {},
   "source": [
    "#### RAG use case with english audio"
   ]
  },
  {
   "cell_type": "code",
   "execution_count": 37,
   "metadata": {},
   "outputs": [
    {
     "name": "stdout",
     "output_type": "stream",
     "text": [
      "Query PT: 'Geração Aumentada de Recuperação' | Top 4 results:\n",
      "start 4.681 - end 7.776:  Retrieval augmented generation, R-A-G,\n",
      "start 85.66 - end 89.476:  Retrievers were developed to solve the problem of question answering, QA.\n",
      "start 0.101 - end 2.657:  What is retrieval augmented generation?\n",
      "start 74.96 - end 80.977:  by providing more accurate and up-to-date information through the documents provided by the retriever.\n",
      "Query EN: 'Retrieval Augmented Generation' | Top 4 results:\n",
      "start 94.881 - end 97.22:  what is retrieval augmented generation?\n",
      "start 0.101 - end 2.657:  What is retrieval augmented generation?\n",
      "start 4.681 - end 7.776:  Retrieval augmented generation, R-A-G,\n",
      "start 85.66 - end 89.476:  Retrievers were developed to solve the problem of question answering, QA.\n"
     ]
    }
   ],
   "source": [
    "similar_docs_pt = db.similarity_search(\"Geração Aumentada de Recuperação\")\n",
    "similar_docs_en = db.similarity_search(\"Retrieval Augmented Generation\")\n",
    "\n",
    "print(\"Query PT: 'Geração Aumentada de Recuperação' | Top 4 results:\")\n",
    "print('\\n'.join([x.page_content for x in similar_docs_pt[:4]]))\n",
    "print(\"Query EN: 'Retrieval Augmented Generation' | Top 4 results:\")\n",
    "print('\\n'.join([x.page_content for x in similar_docs_en[:4]]))"
   ]
  }
 ],
 "metadata": {
  "kernelspec": {
   "display_name": "zaai",
   "language": "python",
   "name": "python3"
  },
  "language_info": {
   "codemirror_mode": {
    "name": "ipython",
    "version": 3
   },
   "file_extension": ".py",
   "mimetype": "text/x-python",
   "name": "python",
   "nbconvert_exporter": "python",
   "pygments_lexer": "ipython3",
   "version": "3.10.13"
  }
 },
 "nbformat": 4,
 "nbformat_minor": 2
}
